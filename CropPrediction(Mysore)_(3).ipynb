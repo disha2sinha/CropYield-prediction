{
  "nbformat": 4,
  "nbformat_minor": 0,
  "metadata": {
    "colab": {
      "name": "CropPrediction(Mysore) (3).ipynb",
      "version": "0.3.2",
      "provenance": [],
      "collapsed_sections": [],
      "include_colab_link": true
    },
    "kernelspec": {
      "name": "python3",
      "display_name": "Python 3"
    }
  },
  "cells": [
    {
      "cell_type": "markdown",
      "metadata": {
        "id": "view-in-github",
        "colab_type": "text"
      },
      "source": [
        "<a href=\"https://colab.research.google.com/github/disha2sinha/CropYield-prediction/blob/master/CropPrediction(Mysore)_(3).ipynb\" target=\"_parent\"><img src=\"https://colab.research.google.com/assets/colab-badge.svg\" alt=\"Open In Colab\"/></a>"
      ]
    },
    {
      "cell_type": "code",
      "metadata": {
        "id": "HktbvYERJFjr",
        "colab_type": "code",
        "colab": {}
      },
      "source": [
        "import pandas as pd\n",
        "import numpy as np\n",
        "import matplotlib.pyplot as plt\n",
        "%matplotlib inline"
      ],
      "execution_count": 0,
      "outputs": []
    },
    {
      "cell_type": "markdown",
      "metadata": {
        "id": "NqbyvO-a05Bk",
        "colab_type": "text"
      },
      "source": [
        "### Reading Dataset(Bangalore rural District)"
      ]
    },
    {
      "cell_type": "code",
      "metadata": {
        "id": "-VK95YmKyeW8",
        "colab_type": "code",
        "outputId": "25da3317-0d22-4da9-dd93-a6688b014bee",
        "colab": {
          "resources": {
            "http://localhost:8080/nbextensions/google.colab/files.js": {
              "data": "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",
              "ok": true,
              "headers": [
                [
                  "content-type",
                  "application/javascript"
                ]
              ],
              "status": 200,
              "status_text": ""
            }
          },
          "base_uri": "https://localhost:8080/",
          "height": 74
        }
      },
      "source": [
        "from google.colab import files\n",
        "uploaded=files.upload()"
      ],
      "execution_count": 0,
      "outputs": [
        {
          "output_type": "display_data",
          "data": {
            "text/html": [
              "\n",
              "     <input type=\"file\" id=\"files-8274ada7-440e-442c-8721-03887fdbe6f2\" name=\"files[]\" multiple disabled />\n",
              "     <output id=\"result-8274ada7-440e-442c-8721-03887fdbe6f2\">\n",
              "      Upload widget is only available when the cell has been executed in the\n",
              "      current browser session. Please rerun this cell to enable.\n",
              "      </output>\n",
              "      <script src=\"/nbextensions/google.colab/files.js\"></script> "
            ],
            "text/plain": [
              "<IPython.core.display.HTML object>"
            ]
          },
          "metadata": {
            "tags": []
          }
        },
        {
          "output_type": "stream",
          "text": [
            "Saving mysore.csv to mysore.csv\n"
          ],
          "name": "stdout"
        }
      ]
    },
    {
      "cell_type": "code",
      "metadata": {
        "id": "OCPeVLHuJLg8",
        "colab_type": "code",
        "outputId": "882c3d0c-968c-477e-eaae-aeacf5065b19",
        "colab": {
          "base_uri": "https://localhost:8080/",
          "height": 452
        }
      },
      "source": [
        "import io\n",
        "import pandas as pd\n",
        "df=pd.read_csv(io.BytesIO(uploaded['mysore.csv']))\n",
        "df.rename(columns={'vapour_pressure area':'vapour_pressure','Unnamed: 6':'area'},inplace=True)\n",
        "df"
      ],
      "execution_count": 0,
      "outputs": [
        {
          "output_type": "execute_result",
          "data": {
            "text/html": [
              "<div>\n",
              "<style scoped>\n",
              "    .dataframe tbody tr th:only-of-type {\n",
              "        vertical-align: middle;\n",
              "    }\n",
              "\n",
              "    .dataframe tbody tr th {\n",
              "        vertical-align: top;\n",
              "    }\n",
              "\n",
              "    .dataframe thead th {\n",
              "        text-align: right;\n",
              "    }\n",
              "</style>\n",
              "<table border=\"1\" class=\"dataframe\">\n",
              "  <thead>\n",
              "    <tr style=\"text-align: right;\">\n",
              "      <th></th>\n",
              "      <th>year</th>\n",
              "      <th>percipitation</th>\n",
              "      <th>min_temp</th>\n",
              "      <th>cloud_cover</th>\n",
              "      <th>vapour_pressure</th>\n",
              "      <th>production</th>\n",
              "      <th>area</th>\n",
              "    </tr>\n",
              "  </thead>\n",
              "  <tbody>\n",
              "    <tr>\n",
              "      <th>0</th>\n",
              "      <td>1990</td>\n",
              "      <td>1990.784</td>\n",
              "      <td>25.213167</td>\n",
              "      <td>49.167833</td>\n",
              "      <td>24.307333</td>\n",
              "      <td>3382</td>\n",
              "      <td>3896</td>\n",
              "    </tr>\n",
              "    <tr>\n",
              "      <th>1</th>\n",
              "      <td>1991</td>\n",
              "      <td>2764.749</td>\n",
              "      <td>25.305750</td>\n",
              "      <td>49.171750</td>\n",
              "      <td>24.401583</td>\n",
              "      <td>3108</td>\n",
              "      <td>4119</td>\n",
              "    </tr>\n",
              "    <tr>\n",
              "      <th>2</th>\n",
              "      <td>1992</td>\n",
              "      <td>3132.967</td>\n",
              "      <td>25.070167</td>\n",
              "      <td>49.171750</td>\n",
              "      <td>24.152083</td>\n",
              "      <td>3266</td>\n",
              "      <td>4431</td>\n",
              "    </tr>\n",
              "    <tr>\n",
              "      <th>3</th>\n",
              "      <td>1993</td>\n",
              "      <td>2493.423</td>\n",
              "      <td>25.198750</td>\n",
              "      <td>49.171750</td>\n",
              "      <td>24.242833</td>\n",
              "      <td>3803</td>\n",
              "      <td>4582</td>\n",
              "    </tr>\n",
              "    <tr>\n",
              "      <th>4</th>\n",
              "      <td>1994</td>\n",
              "      <td>2509.262</td>\n",
              "      <td>25.166417</td>\n",
              "      <td>49.171750</td>\n",
              "      <td>24.172000</td>\n",
              "      <td>3353</td>\n",
              "      <td>5145</td>\n",
              "    </tr>\n",
              "    <tr>\n",
              "      <th>5</th>\n",
              "      <td>1995</td>\n",
              "      <td>2542.588</td>\n",
              "      <td>25.463500</td>\n",
              "      <td>49.171750</td>\n",
              "      <td>24.521500</td>\n",
              "      <td>3686</td>\n",
              "      <td>4046</td>\n",
              "    </tr>\n",
              "    <tr>\n",
              "      <th>6</th>\n",
              "      <td>1996</td>\n",
              "      <td>3007.996</td>\n",
              "      <td>25.419500</td>\n",
              "      <td>51.822833</td>\n",
              "      <td>24.462333</td>\n",
              "      <td>3553</td>\n",
              "      <td>5464</td>\n",
              "    </tr>\n",
              "    <tr>\n",
              "      <th>7</th>\n",
              "      <td>1997</td>\n",
              "      <td>2884.676</td>\n",
              "      <td>25.638083</td>\n",
              "      <td>50.535083</td>\n",
              "      <td>24.483167</td>\n",
              "      <td>3149</td>\n",
              "      <td>4201</td>\n",
              "    </tr>\n",
              "    <tr>\n",
              "      <th>8</th>\n",
              "      <td>1998</td>\n",
              "      <td>3595.758</td>\n",
              "      <td>25.828167</td>\n",
              "      <td>51.245500</td>\n",
              "      <td>24.794917</td>\n",
              "      <td>3429</td>\n",
              "      <td>4968</td>\n",
              "    </tr>\n",
              "    <tr>\n",
              "      <th>9</th>\n",
              "      <td>1999</td>\n",
              "      <td>2380.598</td>\n",
              "      <td>25.304583</td>\n",
              "      <td>50.215667</td>\n",
              "      <td>24.181250</td>\n",
              "      <td>3258</td>\n",
              "      <td>4006</td>\n",
              "    </tr>\n",
              "    <tr>\n",
              "      <th>10</th>\n",
              "      <td>2000</td>\n",
              "      <td>2551.345</td>\n",
              "      <td>25.253667</td>\n",
              "      <td>50.959917</td>\n",
              "      <td>24.274333</td>\n",
              "      <td>3389</td>\n",
              "      <td>4597</td>\n",
              "    </tr>\n",
              "    <tr>\n",
              "      <th>11</th>\n",
              "      <td>2001</td>\n",
              "      <td>2187.089</td>\n",
              "      <td>25.578583</td>\n",
              "      <td>53.606167</td>\n",
              "      <td>24.457000</td>\n",
              "      <td>3649</td>\n",
              "      <td>5100</td>\n",
              "    </tr>\n",
              "    <tr>\n",
              "      <th>12</th>\n",
              "      <td>2002</td>\n",
              "      <td>2242.378</td>\n",
              "      <td>25.767667</td>\n",
              "      <td>50.579417</td>\n",
              "      <td>24.642667</td>\n",
              "      <td>3462</td>\n",
              "      <td>4539</td>\n",
              "    </tr>\n",
              "  </tbody>\n",
              "</table>\n",
              "</div>"
            ],
            "text/plain": [
              "    year  percipitation   min_temp  ...  vapour_pressure  production  area\n",
              "0   1990       1990.784  25.213167  ...        24.307333        3382  3896\n",
              "1   1991       2764.749  25.305750  ...        24.401583        3108  4119\n",
              "2   1992       3132.967  25.070167  ...        24.152083        3266  4431\n",
              "3   1993       2493.423  25.198750  ...        24.242833        3803  4582\n",
              "4   1994       2509.262  25.166417  ...        24.172000        3353  5145\n",
              "5   1995       2542.588  25.463500  ...        24.521500        3686  4046\n",
              "6   1996       3007.996  25.419500  ...        24.462333        3553  5464\n",
              "7   1997       2884.676  25.638083  ...        24.483167        3149  4201\n",
              "8   1998       3595.758  25.828167  ...        24.794917        3429  4968\n",
              "9   1999       2380.598  25.304583  ...        24.181250        3258  4006\n",
              "10  2000       2551.345  25.253667  ...        24.274333        3389  4597\n",
              "11  2001       2187.089  25.578583  ...        24.457000        3649  5100\n",
              "12  2002       2242.378  25.767667  ...        24.642667        3462  4539\n",
              "\n",
              "[13 rows x 7 columns]"
            ]
          },
          "metadata": {
            "tags": []
          },
          "execution_count": 64
        }
      ]
    },
    {
      "cell_type": "markdown",
      "metadata": {
        "id": "XjC56lWQ0-01",
        "colab_type": "text"
      },
      "source": [
        "### Showing correlation between dependent and independent variables"
      ]
    },
    {
      "cell_type": "code",
      "metadata": {
        "id": "f_iRYyJj1UdF",
        "colab_type": "code",
        "outputId": "9e402537-2820-46f1-bef2-a03cbbc37715",
        "colab": {
          "base_uri": "https://localhost:8080/",
          "height": 295
        }
      },
      "source": [
        "plt.scatter(df['percipitation'],df['production'],color='red')\n",
        "plt.title(\"Precipitation Vs Production\")\n",
        "plt.xlabel(\"Precipitation\")\n",
        "plt.ylabel(\"Production\")\n",
        "plt.grid()\n",
        "plt.show()"
      ],
      "execution_count": 0,
      "outputs": [
        {
          "output_type": "display_data",
          "data": {
            "image/png": "[encoded data removed]",
            "text/plain": [
              "<Figure size 432x288 with 1 Axes>"
            ]
          },
          "metadata": {
            "tags": []
          }
        }
      ]
    },
    {
      "cell_type": "code",
      "metadata": {
        "id": "Vm1j6iN73RzI",
        "colab_type": "code",
        "outputId": "7bbf8c58-ee62-48a6-9df5-37a722863486",
        "colab": {
          "base_uri": "https://localhost:8080/",
          "height": 295
        }
      },
      "source": [
        "plt.scatter(df['min_temp'],df['production'],color='green')\n",
        "plt.title(\"Minimum Temperature Vs Production\")\n",
        "plt.xlabel(\"Minimum Temperature\")\n",
        "plt.ylabel(\"Production\")\n",
        "plt.grid()\n",
        "plt.show()"
      ],
      "execution_count": 0,
      "outputs": [
        {
          "output_type": "display_data",
          "data": {
            "image/png": "[encoded data removed]",
            "text/plain": [
              "<Figure size 432x288 with 1 Axes>"
            ]
          },
          "metadata": {
            "tags": []
          }
        }
      ]
    },
    {
      "cell_type": "code",
      "metadata": {
        "id": "Z2hKG1o_3ShJ",
        "colab_type": "code",
        "outputId": "c2788dcf-7e73-4187-e691-50d8a84d66bc",
        "colab": {
          "base_uri": "https://localhost:8080/",
          "height": 295
        }
      },
      "source": [
        "plt.scatter(df['cloud_cover'],df['production'],color=\"purple\")\n",
        "plt.title(\"Cloud cover Vs Production\")\n",
        "plt.xlabel(\"Cloud Cover\")\n",
        "plt.ylabel(\"Production\")\n",
        "plt.grid()\n",
        "plt.show()"
      ],
      "execution_count": 0,
      "outputs": [
        {
          "output_type": "display_data",
          "data": {
            "image/png": "[encoded data removed]",
            "text/plain": [
              "<Figure size 432x288 with 1 Axes>"
            ]
          },
          "metadata": {
            "tags": []
          }
        }
      ]
    },
    {
      "cell_type": "code",
      "metadata": {
        "id": "12x1MZLD3S_e",
        "colab_type": "code",
        "outputId": "a690b25e-c53c-4632-bed9-80947ef7bbf4",
        "colab": {
          "base_uri": "https://localhost:8080/",
          "height": 295
        }
      },
      "source": [
        "plt.scatter(df['vapour_pressure'],df['production'],color='blue')\n",
        "plt.title(\"Vapour pressure  Vs Production\")\n",
        "plt.xlabel(\"Vapour Pressure\")\n",
        "plt.ylabel(\"Production\")\n",
        "plt.grid()\n",
        "plt.show()"
      ],
      "execution_count": 0,
      "outputs": [
        {
          "output_type": "display_data",
          "data": {
            "image/png": "[encoded data removed]",
            "text/plain": [
              "<Figure size 432x288 with 1 Axes>"
            ]
          },
          "metadata": {
            "tags": []
          }
        }
      ]
    },
    {
      "cell_type": "code",
      "metadata": {
        "id": "_2S0_JPZ3TcE",
        "colab_type": "code",
        "outputId": "801bf95e-6564-4b41-9964-fcbc09a54ae5",
        "colab": {
          "base_uri": "https://localhost:8080/",
          "height": 295
        }
      },
      "source": [
        "plt.scatter(df['area'],df['production'],color='orange')\n",
        "plt.title(\"Area Vs Production\")\n",
        "plt.xlabel(\"Area\")\n",
        "plt.ylabel(\"Production\")\n",
        "plt.grid()\n",
        "plt.show()"
      ],
      "execution_count": 0,
      "outputs": [
        {
          "output_type": "display_data",
          "data": {
            "image/png": "[encoded data removed]",
            "text/plain": [
              "<Figure size 432x288 with 1 Axes>"
            ]
          },
          "metadata": {
            "tags": []
          }
        }
      ]
    },
    {
      "cell_type": "markdown",
      "metadata": {
        "id": "ApRhkcKYXfpF",
        "colab_type": "text"
      },
      "source": [
        "## Regression :"
      ]
    },
    {
      "cell_type": "code",
      "metadata": {
        "id": "gburM95LX6Ne",
        "colab_type": "code",
        "colab": {}
      },
      "source": [
        "\n",
        "from sklearn import linear_model\n",
        "from sklearn.model_selection import train_test_split\n",
        "from sklearn.metrics import r2_score"
      ],
      "execution_count": 0,
      "outputs": []
    },
    {
      "cell_type": "code",
      "metadata": {
        "id": "Yt9GLpINXkZh",
        "colab_type": "code",
        "outputId": "1bdaa3b2-66ab-4a0a-92f6-3a9b069293b6",
        "colab": {
          "base_uri": "https://localhost:8080/",
          "height": 170
        }
      },
      "source": [
        "\n",
        "X = df[['percipitation'\t,'min_temp'\t,'cloud_cover'\t,'vapour_pressure'\t,'area']] \n",
        "Y = df['production']\n",
        " \n",
        "x_train,x_test,y_train,y_test=train_test_split(X,Y, test_size=0.2, random_state=1)\n",
        "reg=linear_model.LinearRegression()\n",
        "reg.fit(x_train,y_train)\n",
        "  \n",
        "\n",
        "\n",
        "\n",
        "# prediction\n",
        "y_pred=reg.predict(x_test)\n",
        "print('Predicted Production:',y_pred,'\\n')\n",
        "\n",
        "# Coefficients\n",
        "print('\\nCoefficients: ', reg.coef_,'\\n')\n",
        "\n",
        "# R-squared score\n",
        "print('\\nR-squared score: ', r2_score(y_test,y_pred),'\\n')"
      ],
      "execution_count": 0,
      "outputs": [
        {
          "output_type": "stream",
          "text": [
            "Predicted Production: [3099.74569237 3302.77222086 3281.30655638] \n",
            "\n",
            "\n",
            "Coefficients:  [-2.59718652e-01 -7.88889023e+02  5.21626663e+01  1.36547588e+03\n",
            "  9.56692968e-02] \n",
            "\n",
            "\n",
            "R-squared score:  -0.7033709850476237 \n",
            "\n"
          ],
          "name": "stdout"
        }
      ]
    },
    {
      "cell_type": "markdown",
      "metadata": {
        "id": "U-wxhD3B0IKL",
        "colab_type": "text"
      },
      "source": [
        "**ROW-wise Regression**"
      ]
    },
    {
      "cell_type": "code",
      "metadata": {
        "id": "mQuBbY450HE-",
        "colab_type": "code",
        "outputId": "654f19ee-cd15-4c63-f6dd-5d5524e8ca98",
        "colab": {
          "base_uri": "https://localhost:8080/",
          "height": 238
        }
      },
      "source": [
        "predicted_production=[]\n",
        "actual_production=[]\n",
        "errors=[]\n",
        "for i in df.index.values:\n",
        "  A_test=df.iloc[df.index==i].drop(['production'],axis=1)\n",
        "  b_test=df.iloc[df.index==i]['production']\n",
        "  A_train=df.drop(['production'],axis=1).drop([i],axis=0)\n",
        "  b_train=df.drop([i])['production']\n",
        "  reg=linear_model.LinearRegression()\n",
        "  reg.fit(A_train,b_train)\n",
        "  # prediction\n",
        "  b_pred=reg.predict(A_test)\n",
        "  actual_production.append(b_test.get_values()[0])\n",
        "  predicted_production.append(b_pred[0])\n",
        "  \n",
        "for i in range(len(predicted_production)):\n",
        "  errors.append(actual_production[i]-predicted_production[i])\n",
        "\n",
        "year=1990\n",
        "for i in range(len(predicted_production)):\n",
        "  print('Year: ',year,'- Actual production: ',[actual_production[i]],', Predicted production: ',[predicted_production[i]],', Error: ',[errors[i]])\n",
        "  year+=1"
      ],
      "execution_count": 0,
      "outputs": [
        {
          "output_type": "stream",
          "text": [
            "Year:  1990 - Actual production:  [3382] , Predicted production:  [3578.2688774479684] , Error:  [-196.2688774479684]\n",
            "Year:  1991 - Actual production:  [3108] , Predicted production:  [3464.7005887688974] , Error:  [-356.70058876889743]\n",
            "Year:  1992 - Actual production:  [3266] , Predicted production:  [3229.2286673778435] , Error:  [36.77133262215648]\n",
            "Year:  1993 - Actual production:  [3803] , Predicted production:  [3343.280718515256] , Error:  [459.719281484744]\n",
            "Year:  1994 - Actual production:  [3353] , Predicted production:  [3877.187912911015] , Error:  [-524.1879129110148]\n",
            "Year:  1995 - Actual production:  [3686] , Predicted production:  [3330.7367471734524] , Error:  [355.2632528265476]\n",
            "Year:  1996 - Actual production:  [3553] , Predicted production:  [3582.248825294264] , Error:  [-29.248825294263952]\n",
            "Year:  1997 - Actual production:  [3149] , Predicted production:  [3220.456151303595] , Error:  [-71.4561513035951]\n",
            "Year:  1998 - Actual production:  [3429] , Predicted production:  [3340.3939691897613] , Error:  [88.60603081023874]\n",
            "Year:  1999 - Actual production:  [3258] , Predicted production:  [3201.854475486187] , Error:  [56.14552451381314]\n",
            "Year:  2000 - Actual production:  [3389] , Predicted production:  [3710.881256152192] , Error:  [-321.8812561521918]\n",
            "Year:  2001 - Actual production:  [3649] , Predicted production:  [3338.6346766523056] , Error:  [310.36532334769436]\n",
            "Year:  2002 - Actual production:  [3462] , Predicted production:  [3780.9926846819144] , Error:  [-318.9926846819144]\n"
          ],
          "name": "stdout"
        }
      ]
    },
    {
      "cell_type": "markdown",
      "metadata": {
        "id": "G42VDZZ12JN4",
        "colab_type": "text"
      },
      "source": [
        "**Calculating RMS error**"
      ]
    },
    {
      "cell_type": "code",
      "metadata": {
        "id": "xMuI_YH62H5D",
        "colab_type": "code",
        "outputId": "96206e57-0c3f-450d-c0a9-0dba85384759",
        "colab": {
          "base_uri": "https://localhost:8080/",
          "height": 68
        }
      },
      "source": [
        "import math\n",
        "sum_error=0\n",
        "for i in range(len(predicted_production)):\n",
        "  diff=actual_production[i]-predicted_production[i]\n",
        "  pow_diff=math.pow(diff,2)\n",
        "  sum_error=sum_error+pow_diff\n",
        "root_error=math.sqrt(sum_error)\n",
        "rms_error=root_error/len(predicted_production)\n",
        "print('\\nRoot Mean Square error: ',rms_error,'\\n')"
      ],
      "execution_count": 0,
      "outputs": [
        {
          "output_type": "stream",
          "text": [
            "\n",
            "Root Mean Square error:  80.60756757622197 \n",
            "\n"
          ],
          "name": "stdout"
        }
      ]
    }
  ]
}