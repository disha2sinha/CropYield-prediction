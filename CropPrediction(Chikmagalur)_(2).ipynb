{
  "nbformat": 4,
  "nbformat_minor": 0,
  "metadata": {
    "colab": {
      "name": "CropPrediction(Chikmagalur) (2).ipynb",
      "version": "0.3.2",
      "provenance": [],
      "collapsed_sections": [],
      "include_colab_link": true
    },
    "kernelspec": {
      "name": "python3",
      "display_name": "Python 3"
    }
  },
  "cells": [
    {
      "cell_type": "markdown",
      "metadata": {
        "id": "view-in-github",
        "colab_type": "text"
      },
      "source": [
        "<a href=\"https://colab.research.google.com/github/disha2sinha/CropYield-prediction/blob/master/CropPrediction(Chikmagalur)_(2).ipynb\" target=\"_parent\"><img src=\"https://colab.research.google.com/assets/colab-badge.svg\" alt=\"Open In Colab\"/></a>"
      ]
    },
    {
      "cell_type": "code",
      "metadata": {
        "id": "HktbvYERJFjr",
        "colab_type": "code",
        "colab": {}
      },
      "source": [
        "import pandas as pd\n",
        "import numpy as np\n",
        "import matplotlib.pyplot as plt\n",
        "%matplotlib inline"
      ],
      "execution_count": 0,
      "outputs": []
    },
    {
      "cell_type": "markdown",
      "metadata": {
        "id": "NqbyvO-a05Bk",
        "colab_type": "text"
      },
      "source": [
        "### Reading Dataset(Bangalore rural District)"
      ]
    },
    {
      "cell_type": "code",
      "metadata": {
        "id": "-VK95YmKyeW8",
        "colab_type": "code",
        "outputId": "b0cb2d71-9f07-44d4-e2d2-b5e6b9564be3",
        "colab": {
          "resources": {
            "http://localhost:8080/nbextensions/google.colab/files.js": {
              "data": "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",
              "ok": true,
              "headers": [
                [
                  "content-type",
                  "application/javascript"
                ]
              ],
              "status": 200,
              "status_text": ""
            }
          },
          "base_uri": "https://localhost:8080/",
          "height": 74
        }
      },
      "source": [
        "from google.colab import files\n",
        "uploaded=files.upload()"
      ],
      "execution_count": 0,
      "outputs": [
        {
          "output_type": "display_data",
          "data": {
            "text/html": [
              "\n",
              "     <input type=\"file\" id=\"files-9ae5e7bf-8629-4ef9-a8be-25ff081bf9e9\" name=\"files[]\" multiple disabled />\n",
              "     <output id=\"result-9ae5e7bf-8629-4ef9-a8be-25ff081bf9e9\">\n",
              "      Upload widget is only available when the cell has been executed in the\n",
              "      current browser session. Please rerun this cell to enable.\n",
              "      </output>\n",
              "      <script src=\"/nbextensions/google.colab/files.js\"></script> "
            ],
            "text/plain": [
              "<IPython.core.display.HTML object>"
            ]
          },
          "metadata": {
            "tags": []
          }
        },
        {
          "output_type": "stream",
          "text": [
            "Saving chikmagalur.csv to chikmagalur.csv\n"
          ],
          "name": "stdout"
        }
      ]
    },
    {
      "cell_type": "code",
      "metadata": {
        "id": "OCPeVLHuJLg8",
        "colab_type": "code",
        "outputId": "62f8f40c-54d8-45f4-e1a1-fd004811c7a1",
        "colab": {
          "base_uri": "https://localhost:8080/",
          "height": 452
        }
      },
      "source": [
        "import io\n",
        "import pandas as pd\n",
        "df=pd.read_csv(io.BytesIO(uploaded['chikmagalur.csv']))\n",
        "df.rename(columns={'vapour_pressure area':'vapour_pressure','Unnamed: 6':'area'},inplace=True)\n",
        "df"
      ],
      "execution_count": 0,
      "outputs": [
        {
          "output_type": "execute_result",
          "data": {
            "text/html": [
              "<div>\n",
              "<style scoped>\n",
              "    .dataframe tbody tr th:only-of-type {\n",
              "        vertical-align: middle;\n",
              "    }\n",
              "\n",
              "    .dataframe tbody tr th {\n",
              "        vertical-align: top;\n",
              "    }\n",
              "\n",
              "    .dataframe thead th {\n",
              "        text-align: right;\n",
              "    }\n",
              "</style>\n",
              "<table border=\"1\" class=\"dataframe\">\n",
              "  <thead>\n",
              "    <tr style=\"text-align: right;\">\n",
              "      <th></th>\n",
              "      <th>year</th>\n",
              "      <th>percipitation</th>\n",
              "      <th>min_temp</th>\n",
              "      <th>cloud_cover</th>\n",
              "      <th>vapour_pressure</th>\n",
              "      <th>production</th>\n",
              "      <th>area</th>\n",
              "    </tr>\n",
              "  </thead>\n",
              "  <tbody>\n",
              "    <tr>\n",
              "      <th>0</th>\n",
              "      <td>1990</td>\n",
              "      <td>1679.358</td>\n",
              "      <td>25.848</td>\n",
              "      <td>45.494</td>\n",
              "      <td>24.441</td>\n",
              "      <td>2019</td>\n",
              "      <td>3254</td>\n",
              "    </tr>\n",
              "    <tr>\n",
              "      <th>1</th>\n",
              "      <td>1991</td>\n",
              "      <td>2485.867</td>\n",
              "      <td>25.984</td>\n",
              "      <td>45.483</td>\n",
              "      <td>24.596</td>\n",
              "      <td>1962</td>\n",
              "      <td>2423</td>\n",
              "    </tr>\n",
              "    <tr>\n",
              "      <th>2</th>\n",
              "      <td>1992</td>\n",
              "      <td>2872.205</td>\n",
              "      <td>25.871</td>\n",
              "      <td>45.483</td>\n",
              "      <td>24.373</td>\n",
              "      <td>2089</td>\n",
              "      <td>3800</td>\n",
              "    </tr>\n",
              "    <tr>\n",
              "      <th>3</th>\n",
              "      <td>1993</td>\n",
              "      <td>2293.874</td>\n",
              "      <td>25.918</td>\n",
              "      <td>45.483</td>\n",
              "      <td>24.440</td>\n",
              "      <td>2138</td>\n",
              "      <td>3630</td>\n",
              "    </tr>\n",
              "    <tr>\n",
              "      <th>4</th>\n",
              "      <td>1994</td>\n",
              "      <td>2583.243</td>\n",
              "      <td>25.829</td>\n",
              "      <td>45.483</td>\n",
              "      <td>24.400</td>\n",
              "      <td>1753</td>\n",
              "      <td>3534</td>\n",
              "    </tr>\n",
              "    <tr>\n",
              "      <th>5</th>\n",
              "      <td>1995</td>\n",
              "      <td>2074.373</td>\n",
              "      <td>26.172</td>\n",
              "      <td>45.483</td>\n",
              "      <td>24.690</td>\n",
              "      <td>1769</td>\n",
              "      <td>3090</td>\n",
              "    </tr>\n",
              "    <tr>\n",
              "      <th>6</th>\n",
              "      <td>1996</td>\n",
              "      <td>2610.518</td>\n",
              "      <td>26.134</td>\n",
              "      <td>45.863</td>\n",
              "      <td>24.677</td>\n",
              "      <td>1789</td>\n",
              "      <td>4679</td>\n",
              "    </tr>\n",
              "    <tr>\n",
              "      <th>7</th>\n",
              "      <td>1997</td>\n",
              "      <td>2662.193</td>\n",
              "      <td>26.335</td>\n",
              "      <td>44.194</td>\n",
              "      <td>24.572</td>\n",
              "      <td>1745</td>\n",
              "      <td>3786</td>\n",
              "    </tr>\n",
              "    <tr>\n",
              "      <th>8</th>\n",
              "      <td>1998</td>\n",
              "      <td>2931.677</td>\n",
              "      <td>26.487</td>\n",
              "      <td>45.384</td>\n",
              "      <td>24.898</td>\n",
              "      <td>1685</td>\n",
              "      <td>3651</td>\n",
              "    </tr>\n",
              "    <tr>\n",
              "      <th>9</th>\n",
              "      <td>1999</td>\n",
              "      <td>2127.181</td>\n",
              "      <td>25.981</td>\n",
              "      <td>45.684</td>\n",
              "      <td>24.327</td>\n",
              "      <td>1742</td>\n",
              "      <td>3896</td>\n",
              "    </tr>\n",
              "    <tr>\n",
              "      <th>10</th>\n",
              "      <td>2000</td>\n",
              "      <td>2244.440</td>\n",
              "      <td>25.898</td>\n",
              "      <td>45.290</td>\n",
              "      <td>24.391</td>\n",
              "      <td>1865</td>\n",
              "      <td>4025</td>\n",
              "    </tr>\n",
              "    <tr>\n",
              "      <th>11</th>\n",
              "      <td>2001</td>\n",
              "      <td>1899.461</td>\n",
              "      <td>26.243</td>\n",
              "      <td>47.145</td>\n",
              "      <td>24.616</td>\n",
              "      <td>1798</td>\n",
              "      <td>3852</td>\n",
              "    </tr>\n",
              "    <tr>\n",
              "      <th>12</th>\n",
              "      <td>2002</td>\n",
              "      <td>1923.742</td>\n",
              "      <td>26.459</td>\n",
              "      <td>44.842</td>\n",
              "      <td>24.717</td>\n",
              "      <td>1650</td>\n",
              "      <td>2958</td>\n",
              "    </tr>\n",
              "  </tbody>\n",
              "</table>\n",
              "</div>"
            ],
            "text/plain": [
              "    year  percipitation  min_temp  ...  vapour_pressure  production  area\n",
              "0   1990       1679.358    25.848  ...           24.441        2019  3254\n",
              "1   1991       2485.867    25.984  ...           24.596        1962  2423\n",
              "2   1992       2872.205    25.871  ...           24.373        2089  3800\n",
              "3   1993       2293.874    25.918  ...           24.440        2138  3630\n",
              "4   1994       2583.243    25.829  ...           24.400        1753  3534\n",
              "5   1995       2074.373    26.172  ...           24.690        1769  3090\n",
              "6   1996       2610.518    26.134  ...           24.677        1789  4679\n",
              "7   1997       2662.193    26.335  ...           24.572        1745  3786\n",
              "8   1998       2931.677    26.487  ...           24.898        1685  3651\n",
              "9   1999       2127.181    25.981  ...           24.327        1742  3896\n",
              "10  2000       2244.440    25.898  ...           24.391        1865  4025\n",
              "11  2001       1899.461    26.243  ...           24.616        1798  3852\n",
              "12  2002       1923.742    26.459  ...           24.717        1650  2958\n",
              "\n",
              "[13 rows x 7 columns]"
            ]
          },
          "metadata": {
            "tags": []
          },
          "execution_count": 36
        }
      ]
    },
    {
      "cell_type": "markdown",
      "metadata": {
        "id": "XjC56lWQ0-01",
        "colab_type": "text"
      },
      "source": [
        "### Showing correlation between dependent and independent variables"
      ]
    },
    {
      "cell_type": "code",
      "metadata": {
        "id": "f_iRYyJj1UdF",
        "colab_type": "code",
        "outputId": "36c7013c-8c84-48ae-d0a5-b7ef38e37c68",
        "colab": {
          "base_uri": "https://localhost:8080/",
          "height": 295
        }
      },
      "source": [
        "plt.scatter(df['percipitation'],df['production'],color='red')\n",
        "plt.title(\"Precipitation Vs Production\")\n",
        "plt.xlabel(\"Precipitation\")\n",
        "plt.ylabel(\"Production\")\n",
        "plt.grid()\n",
        "plt.show()"
      ],
      "execution_count": 0,
      "outputs": [
        {
          "output_type": "display_data",
          "data": {
            "image/png": "[encoded data removed]",
            "text/plain": [
              "<Figure size 432x288 with 1 Axes>"
            ]
          },
          "metadata": {
            "tags": []
          }
        }
      ]
    },
    {
      "cell_type": "code",
      "metadata": {
        "id": "Vm1j6iN73RzI",
        "colab_type": "code",
        "outputId": "c70597b4-ce64-4dc7-df75-6bdabc03ff4c",
        "colab": {
          "base_uri": "https://localhost:8080/",
          "height": 295
        }
      },
      "source": [
        "plt.scatter(df['min_temp'],df['production'],color='green')\n",
        "plt.title(\"Minimum Temperature Vs Production\")\n",
        "plt.xlabel(\"Minimum Temperature\")\n",
        "plt.ylabel(\"Production\")\n",
        "plt.grid()\n",
        "plt.show()"
      ],
      "execution_count": 0,
      "outputs": [
        {
          "output_type": "display_data",
          "data": {
            "image/png": "[encoded data removed]",
            "text/plain": [
              "<Figure size 432x288 with 1 Axes>"
            ]
          },
          "metadata": {
            "tags": []
          }
        }
      ]
    },
    {
      "cell_type": "code",
      "metadata": {
        "id": "Z2hKG1o_3ShJ",
        "colab_type": "code",
        "outputId": "7d6aa7f5-f84e-4507-860d-47838a69356a",
        "colab": {
          "base_uri": "https://localhost:8080/",
          "height": 295
        }
      },
      "source": [
        "plt.scatter(df['cloud_cover'],df['production'],color=\"purple\")\n",
        "plt.title(\"Cloud cover Vs Production\")\n",
        "plt.xlabel(\"Cloud Cover\")\n",
        "plt.ylabel(\"Production\")\n",
        "plt.grid()\n",
        "plt.show()"
      ],
      "execution_count": 0,
      "outputs": [
        {
          "output_type": "display_data",
          "data": {
            "image/png": "[encoded data removed]",
            "text/plain": [
              "<Figure size 432x288 with 1 Axes>"
            ]
          },
          "metadata": {
            "tags": []
          }
        }
      ]
    },
    {
      "cell_type": "code",
      "metadata": {
        "id": "12x1MZLD3S_e",
        "colab_type": "code",
        "outputId": "4ac34c2e-c75f-4819-fc63-9716ad326e93",
        "colab": {
          "base_uri": "https://localhost:8080/",
          "height": 295
        }
      },
      "source": [
        "plt.scatter(df['vapour_pressure'],df['production'],color='blue')\n",
        "plt.title(\"Vapour pressure  Vs Production\")\n",
        "plt.xlabel(\"Vapour Pressure\")\n",
        "plt.ylabel(\"Production\")\n",
        "plt.grid()\n",
        "plt.show()"
      ],
      "execution_count": 0,
      "outputs": [
        {
          "output_type": "display_data",
          "data": {
            "image/png": "[encoded data removed]",
            "text/plain": [
              "<Figure size 432x288 with 1 Axes>"
            ]
          },
          "metadata": {
            "tags": []
          }
        }
      ]
    },
    {
      "cell_type": "code",
      "metadata": {
        "id": "_2S0_JPZ3TcE",
        "colab_type": "code",
        "outputId": "715bd5e5-e733-49ba-a21d-8610e706c218",
        "colab": {
          "base_uri": "https://localhost:8080/",
          "height": 295
        }
      },
      "source": [
        "plt.scatter(df['area'],df['production'],color='orange')\n",
        "plt.title(\"Area Vs Production\")\n",
        "plt.xlabel(\"Area\")\n",
        "plt.ylabel(\"Production\")\n",
        "plt.grid()\n",
        "plt.show()"
      ],
      "execution_count": 0,
      "outputs": [
        {
          "output_type": "display_data",
          "data": {
            "image/png": "[encoded data removed]",
            "text/plain": [
              "<Figure size 432x288 with 1 Axes>"
            ]
          },
          "metadata": {
            "tags": []
          }
        }
      ]
    },
    {
      "cell_type": "markdown",
      "metadata": {
        "id": "ApRhkcKYXfpF",
        "colab_type": "text"
      },
      "source": [
        "## Regression :"
      ]
    },
    {
      "cell_type": "code",
      "metadata": {
        "id": "gburM95LX6Ne",
        "colab_type": "code",
        "colab": {}
      },
      "source": [
        "\n",
        "from sklearn import linear_model\n",
        "from sklearn.model_selection import train_test_split\n",
        "from sklearn.metrics import r2_score"
      ],
      "execution_count": 0,
      "outputs": []
    },
    {
      "cell_type": "code",
      "metadata": {
        "id": "Yt9GLpINXkZh",
        "colab_type": "code",
        "outputId": "3f2490f3-c08e-4cc9-c78a-d467a69c8896",
        "colab": {
          "base_uri": "https://localhost:8080/",
          "height": 170
        }
      },
      "source": [
        "\n",
        "X = df[['percipitation'\t,'min_temp'\t,'cloud_cover'\t,'vapour_pressure'\t,'area']] \n",
        "Y = df['production']\n",
        " \n",
        "x_train,x_test,y_train,y_test=train_test_split(X,Y, test_size=0.2, random_state=1)\n",
        "reg=linear_model.LinearRegression()\n",
        "reg.fit(x_train,y_train)\n",
        "  \n",
        "\n",
        "\n",
        "\n",
        "# prediction\n",
        "y_pred=reg.predict(x_test)\n",
        "print('Predicted Production:',y_pred,'\\n')\n",
        "\n",
        "# Coefficients\n",
        "print('\\nCoefficients: ', reg.coef_,'\\n')\n",
        "\n",
        "# R-squared score\n",
        "print('\\nR-squared score: ', r2_score(y_test,y_pred),'\\n')"
      ],
      "execution_count": 0,
      "outputs": [
        {
          "output_type": "stream",
          "text": [
            "Predicted Production: [1898.02657962 1896.65080756 1941.59583296] \n",
            "\n",
            "\n",
            "Coefficients:  [-1.10251272e-03 -6.04685840e+02  9.06295721e-01  3.01470976e+02\n",
            " -3.65193513e-02] \n",
            "\n",
            "\n",
            "R-squared score:  -0.48323860845470823 \n",
            "\n"
          ],
          "name": "stdout"
        }
      ]
    },
    {
      "cell_type": "markdown",
      "metadata": {
        "id": "U-wxhD3B0IKL",
        "colab_type": "text"
      },
      "source": [
        "**ROW-wise Regression**"
      ]
    },
    {
      "cell_type": "code",
      "metadata": {
        "id": "mQuBbY450HE-",
        "colab_type": "code",
        "outputId": "8e897ef4-7de0-4a47-843e-3ec82d4fc57e",
        "colab": {
          "base_uri": "https://localhost:8080/",
          "height": 238
        }
      },
      "source": [
        "predicted_production=[]\n",
        "actual_production=[]\n",
        "errors=[]\n",
        "for i in df.index.values:\n",
        "  A_test=df.iloc[df.index==i].drop(['production'],axis=1)\n",
        "  b_test=df.iloc[df.index==i]['production']\n",
        "  A_train=df.drop(['production'],axis=1).drop([i],axis=0)\n",
        "  b_train=df.drop([i])['production']\n",
        "  reg=linear_model.LinearRegression()\n",
        "  reg.fit(A_train,b_train)\n",
        "  # prediction\n",
        "  b_pred=reg.predict(A_test)\n",
        "  actual_production.append(b_test.get_values()[0])\n",
        "  predicted_production.append(b_pred[0])\n",
        "  \n",
        "for i in range(len(predicted_production)):\n",
        "  errors.append(actual_production[i]-predicted_production[i])\n",
        "\n",
        "year=1990\n",
        "for i in range(len(predicted_production)):\n",
        "  print('Year: ',year,'- Actual production: ',[actual_production[i]],', Predicted production: ',[predicted_production[i]],', Error: ',[errors[i]])\n",
        "  year+=1"
      ],
      "execution_count": 0,
      "outputs": [
        {
          "output_type": "stream",
          "text": [
            "Year:  1990 - Actual production:  [2019] , Predicted production:  [2112.6013730175328] , Error:  [-93.60137301753275]\n",
            "Year:  1991 - Actual production:  [1962] , Predicted production:  [1921.1387746720357] , Error:  [40.86122532796435]\n",
            "Year:  1992 - Actual production:  [2089] , Predicted production:  [1928.014301504947] , Error:  [160.98569849505293]\n",
            "Year:  1993 - Actual production:  [2138] , Predicted production:  [1927.0574596352963] , Error:  [210.94254036470375]\n",
            "Year:  1994 - Actual production:  [1753] , Predicted production:  [2006.3358070403483] , Error:  [-253.3358070403483]\n",
            "Year:  1995 - Actual production:  [1769] , Predicted production:  [1847.8117669162093] , Error:  [-78.81176691620931]\n",
            "Year:  1996 - Actual production:  [1789] , Predicted production:  [1905.0816267007249] , Error:  [-116.08162670072488]\n",
            "Year:  1997 - Actual production:  [1745] , Predicted production:  [1844.5142455086316] , Error:  [-99.51424550863157]\n",
            "Year:  1998 - Actual production:  [1685] , Predicted production:  [1674.7310456731138] , Error:  [10.26895432688616]\n",
            "Year:  1999 - Actual production:  [1742] , Predicted production:  [1921.9312639912314] , Error:  [-179.9312639912314]\n",
            "Year:  2000 - Actual production:  [1865] , Predicted production:  [1517.883303763796] , Error:  [347.116696236204]\n",
            "Year:  2001 - Actual production:  [1798] , Predicted production:  [1656.8580733376803] , Error:  [141.14192666231975]\n",
            "Year:  2002 - Actual production:  [1650] , Predicted production:  [1560.0682754785375] , Error:  [89.93172452146246]\n"
          ],
          "name": "stdout"
        }
      ]
    },
    {
      "cell_type": "markdown",
      "metadata": {
        "id": "G42VDZZ12JN4",
        "colab_type": "text"
      },
      "source": [
        "**Calculating RMS error**"
      ]
    },
    {
      "cell_type": "code",
      "metadata": {
        "id": "xMuI_YH62H5D",
        "colab_type": "code",
        "outputId": "4bc9c01e-5d1c-4ca2-f9b2-09fd7cb72f26",
        "colab": {
          "base_uri": "https://localhost:8080/",
          "height": 68
        }
      },
      "source": [
        "import math\n",
        "sum_error=0\n",
        "for i in range(len(predicted_production)):\n",
        "  diff=actual_production[i]-predicted_production[i]\n",
        "  pow_diff=math.pow(diff,2)\n",
        "  sum_error=sum_error+pow_diff\n",
        "root_error=math.sqrt(sum_error)\n",
        "rms_error=root_error/len(predicted_production)\n",
        "print('\\nRoot Mean Square error: ',rms_error,'\\n')"
      ],
      "execution_count": 0,
      "outputs": [
        {
          "output_type": "stream",
          "text": [
            "\n",
            "Root Mean Square error:  45.87040095768309 \n",
            "\n"
          ],
          "name": "stdout"
        }
      ]
    }
  ]
}